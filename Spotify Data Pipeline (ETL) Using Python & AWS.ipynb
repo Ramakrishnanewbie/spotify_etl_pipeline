{
 "cells": [
  {
   "cell_type": "code",
   "execution_count": null,
   "id": "2362d321",
   "metadata": {},
   "outputs": [],
   "source": [
    "# Prob Stmt : To find insights from the data to generate value for the business.\n",
    "# Client wants to collect and analyse some diff datasets to find some pattern and make music based on that.\n",
    "# Client wants to collect top trending global songs playlist data on weekly basis. Hence, asked to make ETL pipeline.\n",
    "# Spotify is a music streaming app."
   ]
  },
  {
   "cell_type": "code",
   "execution_count": null,
   "id": "3b1bd014",
   "metadata": {},
   "outputs": [],
   "source": [
    "                   # Architecture\n",
    "# Spotify API - (Music Artists,Albums & Tracks) , Get client id & secret key id from dev account to extract data\n",
    "# Note: With python Application package will connect with Spotify API to extract data\n",
    "# AWS Lambda - Write and Deploy code on it (Data extraction and data transformation code)\n",
    "# AWS CloudWatch - Scheduler to run code on weekly basis or specific time or set alarms & monitor logs\n",
    "# AWS S3 - Store raw data in it \n",
    "# Trigger - using it atomatically trigger transformation fn/code to transform data and put back in S3\n",
    "# Glue Crawler - Once data in S3 it will infer schema to create AWS Glue Data Catalog(metadata repository)\n",
    "# AWS Athena - Once data in Data Catalog use athena to run SQL queries on top of it or in S3 buckets"
   ]
  },
  {
   "cell_type": "code",
   "execution_count": null,
   "id": "5153a9bd",
   "metadata": {},
   "outputs": [],
   "source": [
    "#python library to for Spotify Web API\n",
    "!pip install spotipy"
   ]
  },
  {
   "cell_type": "code",
   "execution_count": null,
   "id": "a271360f",
   "metadata": {},
   "outputs": [],
   "source": [
    "pip install --upgrade pip"
   ]
  },
  {
   "cell_type": "code",
   "execution_count": null,
   "id": "337c0a1a",
   "metadata": {},
   "outputs": [],
   "source": [
    "import spotipy\n",
    "from spotipy.oauth2 import SpotifyClientCredentials\n",
    "import pandas as pd"
   ]
  },
  {
   "cell_type": "code",
   "execution_count": null,
   "id": "e43c82af",
   "metadata": {},
   "outputs": [],
   "source": [
    "# Provide details for authentication to extract data from spotify\n",
    "client_credentials_mgr = SpotifyClientCredentials(client_id='',\n",
    "                                                      client_secret='')"
   ]
  },
  {
   "cell_type": "code",
   "execution_count": null,
   "id": "b2b93907",
   "metadata": {},
   "outputs": [],
   "source": [
    "# Create an object to provides authorization to access data to extract\n",
    "sp = spotipy.Spotify(client_credentials_manager = client_credentials_mgr)"
   ]
  },
  {
   "cell_type": "code",
   "execution_count": null,
   "id": "5bab1f85",
   "metadata": {},
   "outputs": [],
   "source": [
    "playlist_link = 'https://open.spotify.com/playlist/37i9dQZEVXbNG2KDcFcKOF'"
   ]
  },
  {
   "cell_type": "code",
   "execution_count": null,
   "id": "2dfb5c1e",
   "metadata": {},
   "outputs": [],
   "source": [
    "playlist_URI = playlist_link.split('/')[-1]"
   ]
  },
  {
   "cell_type": "code",
   "execution_count": null,
   "id": "adfc8c2b",
   "metadata": {},
   "outputs": [],
   "source": [
    "# To extract all the info related to tracks\n",
    "data = sp.playlist_tracks(playlist_URI)"
   ]
  },
  {
   "cell_type": "code",
   "execution_count": null,
   "id": "73e3ad43",
   "metadata": {},
   "outputs": [],
   "source": [
    "data"
   ]
  },
  {
   "cell_type": "code",
   "execution_count": null,
   "id": "083bd1c5",
   "metadata": {},
   "outputs": [],
   "source": [
    "# Extracting relevant data one by one\n",
    "data['items'][0]['track']['album']['id']"
   ]
  },
  {
   "cell_type": "code",
   "execution_count": null,
   "id": "2ba1d67f",
   "metadata": {},
   "outputs": [],
   "source": [
    "data['items'][0]['track']['album']['name']"
   ]
  },
  {
   "cell_type": "code",
   "execution_count": null,
   "id": "d2f0553a",
   "metadata": {},
   "outputs": [],
   "source": [
    "data['items'][0]['track']['album']['release_date']"
   ]
  },
  {
   "cell_type": "code",
   "execution_count": null,
   "id": "f302f4b3",
   "metadata": {},
   "outputs": [],
   "source": [
    "data['items'][0]['track']['album']['total_tracks']"
   ]
  },
  {
   "cell_type": "code",
   "execution_count": null,
   "id": "5973796b",
   "metadata": {},
   "outputs": [],
   "source": [
    "data['items'][0]['track']['album']['external_urls']['spotify']"
   ]
  },
  {
   "cell_type": "code",
   "execution_count": null,
   "id": "40dc1b7e",
   "metadata": {},
   "outputs": [],
   "source": [
    "data['items']"
   ]
  },
  {
   "cell_type": "code",
   "execution_count": null,
   "id": "448fb443",
   "metadata": {},
   "outputs": [],
   "source": [
    "album_list = []\n",
    "for row in data['items']:\n",
    "    album_id = row['track']['album']['id']\n",
    "    album_name = row['track']['album']['name']\n",
    "    album_release_date = row['track']['album']['release_date']\n",
    "    album_total_tracks = row['track']['album']['total_tracks']\n",
    "    album_url = row['track']['album']['external_urls']['spotify']\n",
    "    \n",
    "    album_element = {'album_id':album_id,'name':album_name,'release_date':album_release_date,\n",
    "                    'total_tracks':album_total_tracks,'url':album_url}\n",
    "    album_list.append(album_element)\n",
    "album_list"
   ]
  },
  {
   "cell_type": "code",
   "execution_count": null,
   "id": "adc052ce",
   "metadata": {},
   "outputs": [],
   "source": [
    "artist_list = []\n",
    "for row in data['items']:\n",
    "    for key,value in row.items():\n",
    "        if key == 'track':\n",
    "            for artist in value['artists']:\n",
    "                artist_dict = {'artist_id':artist['id'],'artist_name':artist['name'],'externam_url':artist['external_urls']['spotify']}\n",
    "                artist_list.append(artist_dict)\n",
    "artist_list"
   ]
  },
  {
   "cell_type": "code",
   "execution_count": null,
   "id": "3ea368ac",
   "metadata": {},
   "outputs": [],
   "source": [
    "song_list = []\n",
    "for row in data['items']:\n",
    "    song_id = row['track']['id']\n",
    "    song_name = row['track']['name']\n",
    "    song_duration = row['track']['duration_ms']\n",
    "    song_url = row['track']['external_urls']['spotify']\n",
    "    song_popularity = row['track']['popularity']\n",
    "    song_added = row['added_at']\n",
    "    album_id = row['track']['album']['id']\n",
    "    artist_id = row['track']['album']['artists'][0]['id']\n",
    "    song_dict = {'song_id':song_id,'song_name':song_name,'duration_ms':song_duration,'url':song_url,\n",
    "                'popularity':song_popularity,'song_added':song_added,'album_id':album_id,'artist_id':artist_id}\n",
    "    song_list.append(song_dict)\n",
    "song_list"
   ]
  },
  {
   "cell_type": "code",
   "execution_count": null,
   "id": "d00fce5a",
   "metadata": {},
   "outputs": [],
   "source": [
    "# Converting above datasets into dfs\n",
    "album_df = pd.DataFrame.from_dict(album_list)\n",
    "artist_df = pd.DataFrame.from_dict(artist_list)\n",
    "song_df = pd.DataFrame.from_dict(song_list)"
   ]
  },
  {
   "cell_type": "code",
   "execution_count": null,
   "id": "50684f59",
   "metadata": {},
   "outputs": [],
   "source": [
    "album_df = album_df.drop_duplicates(subset='album_id')\n",
    "artist_df = artist_df.drop_duplicates(subset='artist_id')\n",
    "song_df = song_df.drop_duplicates(subset='song_id')"
   ]
  },
  {
   "cell_type": "code",
   "execution_count": null,
   "id": "ff1f486e",
   "metadata": {},
   "outputs": [],
   "source": [
    "album_df.head()"
   ]
  },
  {
   "cell_type": "code",
   "execution_count": null,
   "id": "5745a0c6",
   "metadata": {},
   "outputs": [],
   "source": [
    "artist_df.head()"
   ]
  },
  {
   "cell_type": "code",
   "execution_count": null,
   "id": "4fc1caa5",
   "metadata": {},
   "outputs": [],
   "source": [
    "song_df.head()"
   ]
  },
  {
   "cell_type": "code",
   "execution_count": null,
   "id": "ebf88619",
   "metadata": {},
   "outputs": [],
   "source": [
    "album_df.info()"
   ]
  },
  {
   "cell_type": "code",
   "execution_count": null,
   "id": "b12ddbba",
   "metadata": {},
   "outputs": [],
   "source": [
    "# Applying transformation to convert into datetime datatype\n",
    "\n",
    "album_df['release_date'] = pd.to_datetime(album_df['release_date'])"
   ]
  },
  {
   "cell_type": "code",
   "execution_count": null,
   "id": "3580a8b6",
   "metadata": {},
   "outputs": [],
   "source": [
    "album_df.info()"
   ]
  },
  {
   "cell_type": "code",
   "execution_count": null,
   "id": "208bae1f",
   "metadata": {},
   "outputs": [],
   "source": [
    "song_df['song_added'] = pd.to_datetime(song_df['song_added'])\n"
   ]
  },
  {
   "cell_type": "code",
   "execution_count": null,
   "id": "d6978a06",
   "metadata": {},
   "outputs": [],
   "source": [
    "song_df.info()"
   ]
  },
  {
   "cell_type": "code",
   "execution_count": null,
   "id": "bb043556",
   "metadata": {},
   "outputs": [],
   "source": []
  }
 ],
 "metadata": {
  "kernelspec": {
   "display_name": "Python 3 (ipykernel)",
   "language": "python",
   "name": "python3"
  },
  "language_info": {
   "codemirror_mode": {
    "name": "ipython",
    "version": 3
   },
   "file_extension": ".py",
   "mimetype": "text/x-python",
   "name": "python",
   "nbconvert_exporter": "python",
   "pygments_lexer": "ipython3",
   "version": "3.10.6"
  }
 },
 "nbformat": 4,
 "nbformat_minor": 5
}
